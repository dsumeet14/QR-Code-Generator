{
 "cells": [
  {
   "cell_type": "code",
   "execution_count": 5,
   "id": "ac7a5447",
   "metadata": {},
   "outputs": [],
   "source": [
    "import tkinter as tk\n",
    "import qrcode\n",
    "from PIL import ImageTk, Image\n",
    "\n",
    "def generate_qr_code():\n",
    "    link = entry_link.get()\n",
    "\n",
    "    qr = qrcode.QRCode(version=1, box_size=10, border=5)\n",
    "    qr.add_data(link)\n",
    "    qr.make(fit=True)\n",
    "\n",
    "    img = qr.make_image(fill=\"black\", back_color=\"white\")\n",
    "    img = img.resize((300, 300))  # Resize the image for display\n",
    "\n",
    "    qr_code_image = ImageTk.PhotoImage(img)\n",
    "    qr_code_label.config(image=qr_code_image)\n",
    "    qr_code_label.image = qr_code_image\n",
    "\n",
    "# Create the GUI window\n",
    "window = tk.Tk()\n",
    "window.title(\"QR Code Generator\")\n",
    "\n",
    "# Create and pack GUI elements\n",
    "label_link = tk.Label(window, text=\"Enter the URL:\")\n",
    "label_link.pack()\n",
    "\n",
    "entry_link = tk.Entry(window)\n",
    "entry_link.pack()\n",
    "\n",
    "button_generate = tk.Button(window, text=\"Generate QR Code\", command=generate_qr_code)\n",
    "button_generate.pack()\n",
    "\n",
    "# Create a label to display the QR code\n",
    "qr_code_label = tk.Label(window)\n",
    "qr_code_label.pack()\n",
    "\n",
    "# Start the GUI event loop\n",
    "window.mainloop()\n"
   ]
  },
  {
   "cell_type": "code",
   "execution_count": null,
   "id": "53ac554b",
   "metadata": {},
   "outputs": [],
   "source": []
  },
  {
   "cell_type": "code",
   "execution_count": null,
   "id": "e099ac38",
   "metadata": {},
   "outputs": [],
   "source": []
  }
 ],
 "metadata": {
  "kernelspec": {
   "display_name": "Python 3 (ipykernel)",
   "language": "python",
   "name": "python3"
  },
  "language_info": {
   "codemirror_mode": {
    "name": "ipython",
    "version": 3
   },
   "file_extension": ".py",
   "mimetype": "text/x-python",
   "name": "python",
   "nbconvert_exporter": "python",
   "pygments_lexer": "ipython3",
   "version": "3.9.12"
  }
 },
 "nbformat": 4,
 "nbformat_minor": 5
}
